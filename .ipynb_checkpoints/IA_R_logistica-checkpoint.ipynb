{
 "cells": [
  {
   "cell_type": "code",
   "execution_count": 20,
   "metadata": {},
   "outputs": [],
   "source": [
    "# -*- coding: utf-8 -*-\n",
    "\"\"\"\n",
    "Created on Tue Nov  25 21:25:03 2020\n",
    "\n",
    "@author: Benjamim Francisco & Harison Seabra \n",
    "\n",
    "Trabalhamos juntos desde o início do projeto debatendo e avaliando as melhores variáveis e formas para processar e filtrar\n",
    "os dados do dataset para atender aos requisitos propostos. Graças a isso conseguimos atingir uma acurácia de 75.6%\n",
    "e acurácia por classe de 44% para obitos e 88% para curados.     \n",
    "\"\"\"\n",
    "import pandas as pd \n",
    "import numpy as np\n",
    "from sklearn.linear_model import LogisticRegression\n",
    "from sklearn.model_selection import train_test_split\n",
    "from sklearn.metrics import confusion_matrix"
   ]
  },
  {
   "cell_type": "code",
   "execution_count": 21,
   "metadata": {},
   "outputs": [
    {
     "name": "stderr",
     "output_type": "stream",
     "text": [
      "C:\\ProgramData\\Anaconda3\\lib\\site-packages\\IPython\\core\\interactiveshell.py:3071: DtypeWarning: Columns (15,60,62,63,64,92,94,106,108,115,117,118,119,123) have mixed types.Specify dtype option on import or set low_memory=False.\n",
      "  has_raised = await self.run_ast_nodes(code_ast.body, cell_name,\n"
     ]
    }
   ],
   "source": [
    "dados = pd.read_csv('C:/Users/Benjamim/Desktop/bases/INFLUD-23-11-2020.csv',sep= ';')"
   ]
  },
  {
   "cell_type": "code",
   "execution_count": 22,
   "metadata": {},
   "outputs": [
    {
     "data": {
      "text/html": [
       "<div>\n",
       "<style scoped>\n",
       "    .dataframe tbody tr th:only-of-type {\n",
       "        vertical-align: middle;\n",
       "    }\n",
       "\n",
       "    .dataframe tbody tr th {\n",
       "        vertical-align: top;\n",
       "    }\n",
       "\n",
       "    .dataframe thead th {\n",
       "        text-align: right;\n",
       "    }\n",
       "</style>\n",
       "<table border=\"1\" class=\"dataframe\">\n",
       "  <thead>\n",
       "    <tr style=\"text-align: right;\">\n",
       "      <th></th>\n",
       "      <th>NU_IDADE_N</th>\n",
       "      <th>FATOR_RISC</th>\n",
       "      <th>UTI</th>\n",
       "      <th>HOSPITAL</th>\n",
       "      <th>EVOLUCAO</th>\n",
       "    </tr>\n",
       "  </thead>\n",
       "  <tbody>\n",
       "    <tr>\n",
       "      <th>0</th>\n",
       "      <td>6</td>\n",
       "      <td>N</td>\n",
       "      <td>2.0</td>\n",
       "      <td>1.0</td>\n",
       "      <td>1.0</td>\n",
       "    </tr>\n",
       "    <tr>\n",
       "      <th>1</th>\n",
       "      <td>2</td>\n",
       "      <td>N</td>\n",
       "      <td>2.0</td>\n",
       "      <td>1.0</td>\n",
       "      <td>1.0</td>\n",
       "    </tr>\n",
       "    <tr>\n",
       "      <th>2</th>\n",
       "      <td>5</td>\n",
       "      <td>N</td>\n",
       "      <td>2.0</td>\n",
       "      <td>1.0</td>\n",
       "      <td>1.0</td>\n",
       "    </tr>\n",
       "    <tr>\n",
       "      <th>3</th>\n",
       "      <td>28</td>\n",
       "      <td>N</td>\n",
       "      <td>2.0</td>\n",
       "      <td>1.0</td>\n",
       "      <td>1.0</td>\n",
       "    </tr>\n",
       "    <tr>\n",
       "      <th>4</th>\n",
       "      <td>80</td>\n",
       "      <td>N</td>\n",
       "      <td>2.0</td>\n",
       "      <td>1.0</td>\n",
       "      <td>1.0</td>\n",
       "    </tr>\n",
       "  </tbody>\n",
       "</table>\n",
       "</div>"
      ],
      "text/plain": [
       "   NU_IDADE_N FATOR_RISC  UTI  HOSPITAL  EVOLUCAO\n",
       "0           6          N  2.0       1.0       1.0\n",
       "1           2          N  2.0       1.0       1.0\n",
       "2           5          N  2.0       1.0       1.0\n",
       "3          28          N  2.0       1.0       1.0\n",
       "4          80          N  2.0       1.0       1.0"
      ]
     },
     "execution_count": 22,
     "metadata": {},
     "output_type": "execute_result"
    }
   ],
   "source": [
    "# Variavaies NU_IDADE_N = idade, FATOR_RISC = paciente se possui algum fator de risco, EVOLUCAO = paciente veio a obito ou cura \n",
    "df = dados[['NU_IDADE_N','FATOR_RISC','UTI','HOSPITAL','EVOLUCAO']]\n",
    "df.head()"
   ]
  },
  {
   "cell_type": "code",
   "execution_count": 23,
   "metadata": {},
   "outputs": [],
   "source": [
    "#removendo valores NaN (not a number)\n",
    "#a) Remoção de casos de SRAG não diagnosticados como COVID-19\n",
    "df = df.dropna()\n",
    "#Lista de indices para melhor manipulação de variaveis da base\n",
    "#basicamente a maioria dos mortos tiveram que passar pela UTI\n",
    "dicio = ['EVOLUCAO','HOSPITAL','UTI']\n"
   ]
  },
  {
   "cell_type": "code",
   "execution_count": 24,
   "metadata": {},
   "outputs": [],
   "source": [
    "\n",
    "#b)Remoção de variáveis relacionadas ao óbito (data do óbito e número da declaração de óbito)\n",
    "'''\n",
    "1-cura\n",
    "2-obito\n",
    "3-obito outras causas\n",
    "9-ignorado\n",
    "''' \n",
    "#rolutador binario de intancias para matrizes, np.array's e etc.\n",
    "def rotula(dataset,param):\n",
    "    arr =[]\n",
    "    param = param\n",
    "    dt = dataset\n",
    "    for item in dt:\n",
    "        if item == param:\n",
    "            arr.append(1)\n",
    "        else:\n",
    "            arr.append(0)\n",
    "    return arr\n",
    "\n",
    "for indice in range(len(dicio)):\n",
    "    # EM INDICE remova valores diferentes de positivo e negativo para os casos\n",
    "    df  = df.drop(df[df[dicio[indice]] > 2 ].index)\n",
    "    df  = df.drop(df[df[dicio[indice]] < 1  ].index)\n",
    "    # o score muda dependendo da classe que for rolulada como 1\n",
    "    #rotulando lados 1 == cura\n",
    "    df[dicio[indice]] = rotula(df[dicio[indice]],1)   \n",
    "\n",
    "df['FATOR_RISC'] = rotula(df['FATOR_RISC'],'S')"
   ]
  },
  {
   "cell_type": "code",
   "execution_count": 25,
   "metadata": {},
   "outputs": [],
   "source": [
    "#c) Seleção e tratamento de variáveis;\n",
    "# Usando train_test_split como estratégia para o melhor desempenho do algoritmo\n",
    "# Train_test_split p/ dividir a base em 30/70 %. sendo 70 para treino e 30 para teste \n",
    "#Sendo 'EVOLUCAO' o conjunto das classes \n",
    "X = df[['NU_IDADE_N','FATOR_RISC','HOSPITAL','UTI']].values\n",
    "y = df['EVOLUCAO'].values\n",
    "X_train, X_test, y_train, y_test = train_test_split(X, y, test_size = 0.30, random_state=42)\n"
   ]
  },
  {
   "cell_type": "code",
   "execution_count": 26,
   "metadata": {},
   "outputs": [
    {
     "data": {
      "text/plain": [
       "array([0, 1, 0, ..., 1, 1, 1], dtype=int64)"
      ]
     },
     "execution_count": 26,
     "metadata": {},
     "output_type": "execute_result"
    }
   ],
   "source": [
    "#d) Treino de classificador para classificar entre “óbito por COVID-19” e “cura” (informação da coluna “EVOLUCAO”);\n",
    "#Regressão logistica\n",
    "# instancia o classificador \n",
    "classificador = LogisticRegression()\n",
    "# treina o classificador\n",
    "classificador.fit(X_train, y_train)\n",
    "# faz predicao e salva em previoes\n",
    "classificador.predict(X_test)\n",
    "previsoes = classificador.predict(X_test)\n",
    "previsoes"
   ]
  },
  {
   "cell_type": "code",
   "execution_count": 27,
   "metadata": {},
   "outputs": [
    {
     "name": "stdout",
     "output_type": "stream",
     "text": [
      "[[ 25564  32134]\n",
      " [ 15051 121078]]\n",
      "0.8894357557904634 0.4430656175257375\n",
      "75.65612633946766 %\n"
     ]
    }
   ],
   "source": [
    "#e) Avaliar classificador e reportar a acurácia geral e por classe em conjunto de teste.\n",
    "# acuracia\n",
    "acuracia = classificador.score(X_test, y_test)\n",
    "\n",
    "# matriz de confusao para resultados de teste e previsoes\n",
    "print(confusion_matrix(y_test, previsoes))\n",
    "matriz_de_confusao = confusion_matrix(y_test, previsoes)\n",
    "\n",
    "# previsão de probabilidades\n",
    "probabPrevi = classificador.predict_proba(X_test)[:,1]\n",
    "\n",
    "#verificando acuracia por classe \n",
    "contador = 0\n",
    "contador2 = 0\n",
    "for item2 in y_test:\n",
    "    if item2 == 0:\n",
    "        contador +=1\n",
    "    else:\n",
    "        contador2 +=1\n",
    "#acerto da classe morte == rotulo 0\n",
    "acuraci_mort = matriz_de_confusao[0][0]/contador\n",
    "acuraci_mort\n",
    "\n",
    "#acerto da classe cura == rotulo 1\n",
    "acuraci_recup = matriz_de_confusao[1][1]/contador2\n",
    "acuraci_recup\n",
    "#imprimindo avaliações\n",
    "print(acuraci_recup,acuraci_mort) \n",
    "print(acuracia*100,'%')\n"
   ]
  },
  {
   "cell_type": "code",
   "execution_count": null,
   "metadata": {},
   "outputs": [],
   "source": []
  }
 ],
 "metadata": {
  "kernelspec": {
   "display_name": "Python 3",
   "language": "python",
   "name": "python3"
  },
  "language_info": {
   "codemirror_mode": {
    "name": "ipython",
    "version": 3
   },
   "file_extension": ".py",
   "mimetype": "text/x-python",
   "name": "python",
   "nbconvert_exporter": "python",
   "pygments_lexer": "ipython3",
   "version": "3.8.3"
  }
 },
 "nbformat": 4,
 "nbformat_minor": 4
}
